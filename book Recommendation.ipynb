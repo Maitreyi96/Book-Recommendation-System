{
 "cells": [
  {
   "cell_type": "code",
   "execution_count": 1,
   "metadata": {},
   "outputs": [
    {
     "data": {
      "text/html": [
       "<style scoped>\n",
       "  .ansiout {\n",
       "    display: block;\n",
       "    unicode-bidi: embed;\n",
       "    white-space: pre-wrap;\n",
       "    word-wrap: break-word;\n",
       "    word-break: break-all;\n",
       "    font-family: \"Source Code Pro\", \"Menlo\", monospace;;\n",
       "    font-size: 13px;\n",
       "    color: #555;\n",
       "    margin-left: 4px;\n",
       "    line-height: 19px;\n",
       "  }\n",
       "</style>\n",
       "<div class=\"ansiout\"></div>"
      ]
     },
     "metadata": {},
     "output_type": "display_data"
    }
   ],
   "source": [
    "import sys\n",
    "import numpy as np\n",
    "from pyspark import SparkContext\n",
    "from pyspark.mllib.regression import LabeledPoint, LinearRegressionWithSGD, LinearRegressionModel\n",
    "from pyspark.mllib.classification import LogisticRegressionWithSGD\n",
    "from pyspark.mllib.clustering import KMeans\n",
    "from sklearn.datasets import load_svmlight_file\n",
    "from pyspark.ml.classification import LogisticRegression\n",
    "from pyspark.sql import SparkSession\n",
    "from pyspark.sql import Row\n",
    "from pyspark.ml.linalg import Vectors\n",
    "\n",
    "\n",
    "spark = SparkSession \\\n",
    "        .builder \\\n",
    "        .appName(\"Cloud_Computing_Project_farheen\") \\\n",
    "        .getOrCreate()\n",
    "sc = spark.sparkContext"
   ]
  },
  {
   "cell_type": "code",
   "execution_count": 2,
   "metadata": {},
   "outputs": [
    {
     "data": {
      "text/html": [
       "<style scoped>\n",
       "  .ansiout {\n",
       "    display: block;\n",
       "    unicode-bidi: embed;\n",
       "    white-space: pre-wrap;\n",
       "    word-wrap: break-word;\n",
       "    word-break: break-all;\n",
       "    font-family: \"Source Code Pro\", \"Menlo\", monospace;;\n",
       "    font-size: 13px;\n",
       "    color: #555;\n",
       "    margin-left: 4px;\n",
       "    line-height: 19px;\n",
       "  }\n",
       "</style>\n",
       "<div class=\"ansiout\"></div>"
      ]
     },
     "metadata": {},
     "output_type": "display_data"
    }
   ],
   "source": [
    "from pyspark.sql import SparkSession\n",
    "spark = SparkSession.builder.appName('Cloud_Computing_Project').getOrCreate()\n",
    "ratings = sqlContext.read.csv('/FileStore/tables/ratings.csv', header=True, inferSchema=True)"
   ]
  },
  {
   "cell_type": "code",
   "execution_count": 3,
   "metadata": {},
   "outputs": [
    {
     "data": {
      "text/html": [
       "<style scoped>\n",
       "  .ansiout {\n",
       "    display: block;\n",
       "    unicode-bidi: embed;\n",
       "    white-space: pre-wrap;\n",
       "    word-wrap: break-word;\n",
       "    word-break: break-all;\n",
       "    font-family: \"Source Code Pro\", \"Menlo\", monospace;;\n",
       "    font-size: 13px;\n",
       "    color: #555;\n",
       "    margin-left: 4px;\n",
       "    line-height: 19px;\n",
       "  }\n",
       "</style>\n",
       "<div class=\"ansiout\">+-------+-------+------+\n",
       "book_id|user_id|rating|\n",
       "+-------+-------+------+\n",
       "1      |314    |5     |\n",
       "1      |439    |3     |\n",
       "1      |588    |5     |\n",
       "1      |1169   |4     |\n",
       "1      |1185   |4     |\n",
       "1      |2077   |4     |\n",
       "1      |2487   |4     |\n",
       "1      |2900   |5     |\n",
       "1      |3662   |4     |\n",
       "1      |3922   |5     |\n",
       "1      |5379   |5     |\n",
       "1      |5461   |3     |\n",
       "1      |5885   |5     |\n",
       "1      |6630   |5     |\n",
       "1      |7563   |3     |\n",
       "1      |9246   |1     |\n",
       "1      |10140  |4     |\n",
       "1      |10146  |5     |\n",
       "1      |10246  |4     |\n",
       "1      |10335  |4     |\n",
       "+-------+-------+------+\n",
       "only showing top 20 rows\n",
       "\n",
       "</div>"
      ]
     },
     "metadata": {},
     "output_type": "display_data"
    }
   ],
   "source": [
    "# Explore the data with Spark APIs\n",
    "ratings.show(truncate=False)"
   ]
  },
  {
   "cell_type": "code",
   "execution_count": 4,
   "metadata": {},
   "outputs": [
    {
     "data": {
      "text/html": [
       "<style scoped>\n",
       "  .ansiout {\n",
       "    display: block;\n",
       "    unicode-bidi: embed;\n",
       "    white-space: pre-wrap;\n",
       "    word-wrap: break-word;\n",
       "    word-break: break-all;\n",
       "    font-family: \"Source Code Pro\", \"Menlo\", monospace;;\n",
       "    font-size: 13px;\n",
       "    color: #555;\n",
       "    margin-left: 4px;\n",
       "    line-height: 19px;\n",
       "  }\n",
       "</style>\n",
       "<div class=\"ansiout\">root\n",
       "-- book_id: integer (nullable = true)\n",
       "-- user_id: integer (nullable = true)\n",
       "-- rating: integer (nullable = true)\n",
       "\n",
       "</div>"
      ]
     },
     "metadata": {},
     "output_type": "display_data"
    }
   ],
   "source": [
    "#Print the schema of the DataFrame:\n",
    "\n",
    "ratings.printSchema()"
   ]
  },
  {
   "cell_type": "code",
   "execution_count": 5,
   "metadata": {},
   "outputs": [
    {
     "data": {
      "text/html": [
       "<style scoped>\n",
       "  .ansiout {\n",
       "    display: block;\n",
       "    unicode-bidi: embed;\n",
       "    white-space: pre-wrap;\n",
       "    word-wrap: break-word;\n",
       "    word-break: break-all;\n",
       "    font-family: \"Source Code Pro\", \"Menlo\", monospace;;\n",
       "    font-size: 13px;\n",
       "    color: #555;\n",
       "    margin-left: 4px;\n",
       "    line-height: 19px;\n",
       "  }\n",
       "</style>\n",
       "<div class=\"ansiout\"></div>"
      ]
     },
     "metadata": {},
     "output_type": "display_data"
    }
   ],
   "source": [
    "books = spark.read.load(\"/FileStore/tables/books.csv\",\n",
    "                     format=\"csv\", inferSchema=\"true\", header=\"true\")"
   ]
  },
  {
   "cell_type": "code",
   "execution_count": 6,
   "metadata": {},
   "outputs": [
    {
     "data": {
      "text/html": [
       "<style scoped>\n",
       "  .ansiout {\n",
       "    display: block;\n",
       "    unicode-bidi: embed;\n",
       "    white-space: pre-wrap;\n",
       "    word-wrap: break-word;\n",
       "    word-break: break-all;\n",
       "    font-family: \"Source Code Pro\", \"Menlo\", monospace;;\n",
       "    font-size: 13px;\n",
       "    color: #555;\n",
       "    margin-left: 4px;\n",
       "    line-height: 19px;\n",
       "  }\n",
       "</style>\n",
       "<div class=\"ansiout\">+---+--------+------------+--------+-----------+----------+----------------+------------------------------------------------------+-------------------------+-------------------------------------------------------------+-----------------------------------------------------------+-------------+--------------+-------------+------------------+-----------------------+---------+---------+---------+---------+---------+-----------------------------------------------------------+-----------------------------------------------------------+\n",
       "id |book_id |best_book_id|work_id |books_count|isbn      |isbn13          |authors                                               |original_publication_year|original_title                                               |title                                                      |language_code|average_rating|ratings_count|work_ratings_count|work_text_reviews_count|ratings_1|ratings_2|ratings_3|ratings_4|ratings_5|image_url                                                  |small_image_url                                            |\n",
       "+---+--------+------------+--------+-----------+----------+----------------+------------------------------------------------------+-------------------------+-------------------------------------------------------------+-----------------------------------------------------------+-------------+--------------+-------------+------------------+-----------------------+---------+---------+---------+---------+---------+-----------------------------------------------------------+-----------------------------------------------------------+\n",
       "1  |2767052 |2767052     |2792775 |272        |439023483 |9.78043902348E12|Suzanne Collins                                       |2008.0                   |The Hunger Games                                             |The Hunger Games (The Hunger Games, #1)                    |eng          |4.34          |4780653      |4942365           |155254                 |66715.0  |127936   |560092   |1481305  |2706317  |https://images.gr-assets.com/books/1447303603m/2767052.jpg |https://images.gr-assets.com/books/1447303603s/2767052.jpg |\n",
       "2  |3       |3           |4640799 |491        |439554934 |9.78043955493E12|J.K. Rowling, Mary GrandPré                           |1997.0                   |Harry Potter and the Philosopher&apos;s Stone                     |Harry Potter and the Sorcerer&apos;s Stone (Harry Potter, #1)   |eng          |4.44          |4602479      |4800065           |75867                  |75504.0  |101676   |455024   |1156318  |3011543  |https://images.gr-assets.com/books/1474154022m/3.jpg       |https://images.gr-assets.com/books/1474154022s/3.jpg       |\n",
       "3  |41865   |41865       |3212258 |226        |316015849 |9.78031601584E12|Stephenie Meyer                                       |2005.0                   |Twilight                                                     |Twilight (Twilight, #1)                                    |en-US        |3.57          |3866839      |3916824           |95009                  |456191.0 |436802   |793319   |875073   |1355439  |https://images.gr-assets.com/books/1361039443m/41865.jpg   |https://images.gr-assets.com/books/1361039443s/41865.jpg   |\n",
       "4  |2657    |2657        |3275794 |487        |61120081  |9.78006112008E12|Harper Lee                                            |1960.0                   |To Kill a Mockingbird                                        |To Kill a Mockingbird                                      |eng          |4.25          |3198671      |3340896           |72586                  |60427.0  |117415   |446835   |1001952  |1714267  |https://images.gr-assets.com/books/1361975680m/2657.jpg    |https://images.gr-assets.com/books/1361975680s/2657.jpg    |\n",
       "5  |4671    |4671        |245494  |1356       |743273567 |9.78074327356E12|F. Scott Fitzgerald                                   |1925.0                   |The Great Gatsby                                             |The Great Gatsby                                           |eng          |3.89          |2683664      |2773745           |51992                  |86236.0  |197621   |606158   |936012   |947718   |https://images.gr-assets.com/books/1490528560m/4671.jpg    |https://images.gr-assets.com/books/1490528560s/4671.jpg    |\n",
       "6  |11870085|11870085    |16827462|226        |525478817 |9.78052547881E12|John Green                                            |2012.0                   |The Fault in Our Stars                                       |The Fault in Our Stars                                     |eng          |4.26          |2346404      |2478609           |140739                 |47994.0  |92723    |327550   |698471   |1311871  |https://images.gr-assets.com/books/1360206420m/11870085.jpg|https://images.gr-assets.com/books/1360206420s/11870085.jpg|\n",
       "7  |5907    |5907        |1540236 |969        |618260307 |9.7806182603E12 |J.R.R. Tolkien                                        |1937.0                   |The Hobbit or There and Back Again                           |The Hobbit                                                 |en-US        |4.25          |2071616      |2196809           |37653                  |46023.0  |76784    |288649   |665635   |1119718  |https://images.gr-assets.com/books/1372847500m/5907.jpg    |https://images.gr-assets.com/books/1372847500s/5907.jpg    |\n",
       "8  |5107    |5107        |3036731 |360        |316769177 |9.78031676917E12|J.D. Salinger                                         |1951.0                   |The Catcher in the Rye                                       |The Catcher in the Rye                                     |eng          |3.79          |2044241      |2120637           |44920                  |109383.0 |185520   |455042   |661516   |709176   |https://images.gr-assets.com/books/1398034300m/5107.jpg    |https://images.gr-assets.com/books/1398034300s/5107.jpg    |\n",
       "9  |960     |960         |3338963 |311        |1416524797|9.78141652479E12|Dan Brown                                             |2000.0                   |Angels &amp; Demons                                              |Angels &amp; Demons  (Robert Langdon, #1)                      |en-CA        |3.85          |2001311      |2078754           |25112                  |77841.0  |145740   |458429   |716569   |680175   |https://images.gr-assets.com/books/1303390735m/960.jpg     |https://images.gr-assets.com/books/1303390735s/960.jpg     |\n",
       "10 |1885    |1885        |3060926 |3455       |679783261 |9.78067978327E12|Jane Austen                                           |1813.0                   |Pride and Prejudice                                          |Pride and Prejudice                                        |eng          |4.24          |2035490      |2191465           |49152                  |54700.0  |86485    |284852   |609755   |1155673  |https://images.gr-assets.com/books/1320399351m/1885.jpg    |https://images.gr-assets.com/books/1320399351s/1885.jpg    |\n",
       "11 |77203   |77203       |3295919 |283        |1594480001|9.78159448E12   |Khaled Hosseini                                       |2003.0                   |The Kite Runner                                              |The Kite Runner                                            |eng          |4.26          |1813044      |1878095           |59730                  |34288.0  |59980    |226062   |628174   |929591   |https://images.gr-assets.com/books/1484565687m/77203.jpg   |https://images.gr-assets.com/books/1484565687s/77203.jpg   |\n",
       "12 |13335037|13335037    |13155899|210        |62024035  |9.78006202404E12|Veronica Roth                                         |2011.0                   |Divergent                                                    |Divergent (Divergent, #1)                                  |eng          |4.24          |1903563      |2216814           |101023                 |36315.0  |82870    |310297   |673028   |1114304  |https://images.gr-assets.com/books/1328559506m/13335037.jpg|https://images.gr-assets.com/books/1328559506s/13335037.jpg|\n",
       "13 |5470    |5470        |153313  |995        |451524934 |9.78045152494E12|George Orwell, Erich Fromm, Celâl Üster               |1949.0                   |Nineteen Eighty-Four                                         |1984                                                       |eng          |4.14          |1956832      |2053394           |45518                  |41845.0  |86425    |324874   |692021   |908229   |https://images.gr-assets.com/books/1348990566m/5470.jpg    |https://images.gr-assets.com/books/1348990566s/5470.jpg    |\n",
       "14 |7613    |7613        |2207778 |896        |452284244 |9.78045228424E12|George Orwell                                         |1945.0                   |Animal Farm: A Fairy Story                                   |Animal Farm                                                |eng          |3.87          |1881700      |1982987           |35472                  |66854.0  |135147   |433432   |698642   |648912   |https://images.gr-assets.com/books/1424037542m/7613.jpg    |https://images.gr-assets.com/books/1424037542s/7613.jpg    |\n",
       "15 |48855   |48855       |3532896 |710        |553296981 |9.78055329698E12|Anne Frank, Eleanor Roosevelt, B.M. Mooyaart-Doubleday|1947.0                   |Het Achterhuis: Dagboekbrieven 14 juni 1942 - 1 augustus 1944|The Diary of a Young Girl                                  |eng          |4.1           |1972666      |2024493           |20825                  |45225.0  |91270    |355756   |656870   |875372   |https://images.gr-assets.com/books/1358276407m/48855.jpg   |https://images.gr-assets.com/books/1358276407s/48855.jpg   |\n",
       "16 |2429135 |2429135     |1708725 |274        |307269752 |9.78030726975E12|Stieg Larsson, Reg Keeland                            |2005.0                   |Män som hatar kvinnor                                        |The Girl with the Dragon Tattoo (Millennium, #1)           |eng          |4.11          |1808403      |1929834           |62543                  |54835.0  |86051    |285413   |667485   |836050   |https://images.gr-assets.com/books/1327868566m/2429135.jpg |https://images.gr-assets.com/books/1327868566s/2429135.jpg |\n",
       "17 |6148028 |6148028     |6171458 |201        |439023491 |9.7804390235E12 |Suzanne Collins                                       |2009.0                   |Catching Fire                                                |Catching Fire (The Hunger Games, #2)                       |eng          |4.3           |1831039      |1988079           |88538                  |10492.0  |48030    |262010   |687238   |980309   |https://images.gr-assets.com/books/1358273780m/6148028.jpg |https://images.gr-assets.com/books/1358273780s/6148028.jpg |\n",
       "18 |5       |5           |2402163 |376        |043965548X|9.78043965548E12|J.K. Rowling, Mary GrandPré, Rufus Beck               |1999.0                   |Harry Potter and the Prisoner of Azkaban                     |Harry Potter and the Prisoner of Azkaban (Harry Potter, #3)|eng          |4.53          |1832823      |1969375           |36099                  |6716.0   |20413    |166129   |509447   |1266670  |https://images.gr-assets.com/books/1499277281m/5.jpg       |https://images.gr-assets.com/books/1499277281s/5.jpg       |\n",
       "19 |34      |34          |3204327 |566        |618346252 |9.78061834626E12|J.R.R. Tolkien                                        |1954.0                   | The Fellowship of the Ring                                  |The Fellowship of the Ring (The Lord of the Rings, #1)     |eng          |4.34          |1766803      |1832541           |15333                  |38031.0  |55862    |202332   |493922   |1042394  |https://images.gr-assets.com/books/1298411339m/34.jpg      |https://images.gr-assets.com/books/1298411339s/34.jpg      |\n",
       "20 |7260188 |7260188     |8812783 |239        |439023513 |9.78043902351E12|Suzanne Collins                                       |2010.0                   |Mockingjay                                                   |Mockingjay (The Hunger Games, #3)                          |eng          |4.03          |1719760      |1870748           |96274                  |30144.0  |110498   |373060   |618271   |738775   |https://images.gr-assets.com/books/1358275419m/7260188.jpg |https://images.gr-assets.com/books/1358275419s/7260188.jpg |\n",
       "+---+--------+------------+--------+-----------+----------+----------------+------------------------------------------------------+-------------------------+-------------------------------------------------------------+-----------------------------------------------------------+-------------+--------------+-------------+------------------+-----------------------+---------+---------+---------+---------+---------+-----------------------------------------------------------+-----------------------------------------------------------+\n",
       "only showing top 20 rows\n",
       "\n",
       "</div>"
      ]
     },
     "metadata": {},
     "output_type": "display_data"
    }
   ],
   "source": [
    "# Explore the data with Spark APIs\n",
    "books.show(truncate=False)"
   ]
  },
  {
   "cell_type": "code",
   "execution_count": 7,
   "metadata": {},
   "outputs": [
    {
     "data": {
      "text/html": [
       "<style scoped>\n",
       "  .ansiout {\n",
       "    display: block;\n",
       "    unicode-bidi: embed;\n",
       "    white-space: pre-wrap;\n",
       "    word-wrap: break-word;\n",
       "    word-break: break-all;\n",
       "    font-family: \"Source Code Pro\", \"Menlo\", monospace;;\n",
       "    font-size: 13px;\n",
       "    color: #555;\n",
       "    margin-left: 4px;\n",
       "    line-height: 19px;\n",
       "  }\n",
       "</style>\n",
       "<div class=\"ansiout\">root\n",
       "-- id: integer (nullable = true)\n",
       "-- book_id: integer (nullable = true)\n",
       "-- best_book_id: integer (nullable = true)\n",
       "-- work_id: integer (nullable = true)\n",
       "-- books_count: integer (nullable = true)\n",
       "-- isbn: string (nullable = true)\n",
       "-- isbn13: double (nullable = true)\n",
       "-- authors: string (nullable = true)\n",
       "-- original_publication_year: double (nullable = true)\n",
       "-- original_title: string (nullable = true)\n",
       "-- title: string (nullable = true)\n",
       "-- language_code: string (nullable = true)\n",
       "-- average_rating: string (nullable = true)\n",
       "-- ratings_count: string (nullable = true)\n",
       "-- work_ratings_count: string (nullable = true)\n",
       "-- work_text_reviews_count: string (nullable = true)\n",
       "-- ratings_1: double (nullable = true)\n",
       "-- ratings_2: integer (nullable = true)\n",
       "-- ratings_3: integer (nullable = true)\n",
       "-- ratings_4: integer (nullable = true)\n",
       "-- ratings_5: integer (nullable = true)\n",
       "-- image_url: string (nullable = true)\n",
       "-- small_image_url: string (nullable = true)\n",
       "\n",
       "</div>"
      ]
     },
     "metadata": {},
     "output_type": "display_data"
    }
   ],
   "source": [
    "#Print the schema of the DataFrame:\n",
    "\n",
    "books.printSchema()"
   ]
  },
  {
   "cell_type": "code",
   "execution_count": 8,
   "metadata": {},
   "outputs": [
    {
     "data": {
      "text/html": [
       "<style scoped>\n",
       "  .ansiout {\n",
       "    display: block;\n",
       "    unicode-bidi: embed;\n",
       "    white-space: pre-wrap;\n",
       "    word-wrap: break-word;\n",
       "    word-break: break-all;\n",
       "    font-family: \"Source Code Pro\", \"Menlo\", monospace;;\n",
       "    font-size: 13px;\n",
       "    color: #555;\n",
       "    margin-left: 4px;\n",
       "    line-height: 19px;\n",
       "  }\n",
       "</style>\n",
       "<div class=\"ansiout\">+-------+-----------------+------------------+------------------+\n",
       "summary|          book_id|           user_id|            rating|\n",
       "+-------+-----------------+------------------+------------------+\n",
       "  count|           981756|            981756|            981756|\n",
       "   mean|4943.275635697668|25616.759933221696|3.8565335989797873|\n",
       " stddev|2873.207414896143|15228.338825882149|0.9839408559619973|\n",
       "    min|                1|                 1|                 1|\n",
       "    max|            10000|             53424|                 5|\n",
       "+-------+-----------------+------------------+------------------+\n",
       "\n",
       "</div>"
      ]
     },
     "metadata": {},
     "output_type": "display_data"
    }
   ],
   "source": [
    "ratings.describe().show()"
   ]
  },
  {
   "cell_type": "code",
   "execution_count": 9,
   "metadata": {},
   "outputs": [
    {
     "data": {
      "text/html": [
       "<style scoped>\n",
       "  .ansiout {\n",
       "    display: block;\n",
       "    unicode-bidi: embed;\n",
       "    white-space: pre-wrap;\n",
       "    word-wrap: break-word;\n",
       "    word-break: break-all;\n",
       "    font-family: \"Source Code Pro\", \"Menlo\", monospace;;\n",
       "    font-size: 13px;\n",
       "    color: #555;\n",
       "    margin-left: 4px;\n",
       "    line-height: 19px;\n",
       "  }\n",
       "</style>\n",
       "<div class=\"ansiout\">Number of different users: 53424\n",
       "Number of different books: 10000\n",
       "Number of books with at least one rating strictly higher than 4: 9999\n",
       "</div>"
      ]
     },
     "metadata": {},
     "output_type": "display_data"
    }
   ],
   "source": [
    "print('Number of different users: {}'.format(ratings.select('user_id').distinct().count()))\n",
    "print('Number of different books: {}'.format(ratings.select('book_Id').distinct().count()))\n",
    "print('Number of books with at least one rating strictly higher than 4: {}'.format(ratings.filter('rating > 4').select('book_Id').distinct().count()))"
   ]
  },
  {
   "cell_type": "code",
   "execution_count": 10,
   "metadata": {},
   "outputs": [
    {
     "data": {
      "text/html": [
       "<style scoped>\n",
       "  .ansiout {\n",
       "    display: block;\n",
       "    unicode-bidi: embed;\n",
       "    white-space: pre-wrap;\n",
       "    word-wrap: break-word;\n",
       "    word-break: break-all;\n",
       "    font-family: \"Source Code Pro\", \"Menlo\", monospace;;\n",
       "    font-size: 13px;\n",
       "    color: #555;\n",
       "    margin-left: 4px;\n",
       "    line-height: 19px;\n",
       "  }\n",
       "</style>\n",
       "<div class=\"ansiout\">+----+\n",
       "  nb|\n",
       "+----+\n",
       "9999|\n",
       "+----+\n",
       "\n",
       "</div>"
      ]
     },
     "metadata": {},
     "output_type": "display_data"
    }
   ],
   "source": [
    "ratings.createOrReplaceTempView('ratings')\n",
    "spark.sql('SELECT COUNT(DISTINCT(book_id)) AS nb FROM ratings WHERE rating > 4').show()"
   ]
  },
  {
   "cell_type": "code",
   "execution_count": 11,
   "metadata": {},
   "outputs": [
    {
     "data": {
      "text/html": [
       "<style scoped>\n",
       "  .ansiout {\n",
       "    display: block;\n",
       "    unicode-bidi: embed;\n",
       "    white-space: pre-wrap;\n",
       "    word-wrap: break-word;\n",
       "    word-break: break-all;\n",
       "    font-family: \"Source Code Pro\", \"Menlo\", monospace;;\n",
       "    font-size: 13px;\n",
       "    color: #555;\n",
       "    margin-left: 4px;\n",
       "    line-height: 19px;\n",
       "  }\n",
       "</style>\n",
       "<div class=\"ansiout\"></div>"
      ]
     },
     "metadata": {},
     "output_type": "display_data"
    }
   ],
   "source": [
    "!pip install --upgrade pandas"
   ]
  },
  {
   "cell_type": "code",
   "execution_count": 12,
   "metadata": {},
   "outputs": [
    {
     "data": {
      "text/html": [
       "<div style=\"max-width:1500px;overflow:auto;\">\n",
       "<table border=\"1\" class=\"dataframe\">\n",
       "  <thead>\n",
       "    <tr style=\"text-align: right;\">\n",
       "      <th></th>\n",
       "      <th>book_id</th>\n",
       "      <th>user_id</th>\n",
       "      <th>rating</th>\n",
       "    </tr>\n",
       "  </thead>\n",
       "  <tbody>\n",
       "    <tr>\n",
       "      <th>0</th>\n",
       "      <td>1</td>\n",
       "      <td>314</td>\n",
       "      <td>5</td>\n",
       "    </tr>\n",
       "    <tr>\n",
       "      <th>1</th>\n",
       "      <td>1</td>\n",
       "      <td>439</td>\n",
       "      <td>3</td>\n",
       "    </tr>\n",
       "    <tr>\n",
       "      <th>2</th>\n",
       "      <td>1</td>\n",
       "      <td>588</td>\n",
       "      <td>5</td>\n",
       "    </tr>\n",
       "    <tr>\n",
       "      <th>3</th>\n",
       "      <td>1</td>\n",
       "      <td>1169</td>\n",
       "      <td>4</td>\n",
       "    </tr>\n",
       "    <tr>\n",
       "      <th>4</th>\n",
       "      <td>1</td>\n",
       "      <td>1185</td>\n",
       "      <td>4</td>\n",
       "    </tr>\n",
       "  </tbody>\n",
       "</table>\n",
       "</div>"
      ]
     },
     "metadata": {},
     "output_type": "display_data"
    }
   ],
   "source": [
    "import pandas as pd\n",
    "\n",
    "ratings.toPandas().head()"
   ]
  },
  {
   "cell_type": "code",
   "execution_count": 13,
   "metadata": {},
   "outputs": [
    {
     "data": {
      "text/html": [
       "<style scoped>\n",
       "  .ansiout {\n",
       "    display: block;\n",
       "    unicode-bidi: embed;\n",
       "    white-space: pre-wrap;\n",
       "    word-wrap: break-word;\n",
       "    word-break: break-all;\n",
       "    font-family: \"Source Code Pro\", \"Menlo\", monospace;;\n",
       "    font-size: 13px;\n",
       "    color: #555;\n",
       "    margin-left: 4px;\n",
       "    line-height: 19px;\n",
       "  }\n",
       "</style>\n",
       "<div class=\"ansiout\"></div>"
      ]
     },
     "metadata": {},
     "output_type": "display_data"
    }
   ],
   "source": [
    "import seaborn as sns\n",
    "ratingsPandas = ratings.toPandas()\n",
    "sns.lmplot(x='user_id', y='book_id', data=ratingsPandas, fit_reg=False);"
   ]
  },
  {
   "cell_type": "code",
   "execution_count": 14,
   "metadata": {},
   "outputs": [
    {
     "data": {
      "text/html": [
       "<style scoped>\n",
       "  .ansiout {\n",
       "    display: block;\n",
       "    unicode-bidi: embed;\n",
       "    white-space: pre-wrap;\n",
       "    word-wrap: break-word;\n",
       "    word-break: break-all;\n",
       "    font-family: \"Source Code Pro\", \"Menlo\", monospace;;\n",
       "    font-size: 13px;\n",
       "    color: #555;\n",
       "    margin-left: 4px;\n",
       "    line-height: 19px;\n",
       "  }\n",
       "</style>\n",
       "<div class=\"ansiout\"></div>"
      ]
     },
     "metadata": {},
     "output_type": "display_data"
    }
   ],
   "source": [
    "!pip install --upgrade seaborn"
   ]
  },
  {
   "cell_type": "code",
   "execution_count": 15,
   "metadata": {},
   "outputs": [
    {
     "data": {
      "image/png": "[encoded data removed]"
     },
     "metadata": {},
     "output_type": "display_data"
    }
   ],
   "source": [
    "display()"
   ]
  },
  {
   "cell_type": "code",
   "execution_count": 16,
   "metadata": {},
   "outputs": [
    {
     "data": {
      "image/png": "[encoded data removed]"
     },
     "metadata": {},
     "output_type": "display_data"
    }
   ],
   "source": [
    "sns.palplot(sns.diverging_palette(10, 133, sep=80, n=5))\n",
    "display()"
   ]
  },
  {
   "cell_type": "code",
   "execution_count": 17,
   "metadata": {},
   "outputs": [
    {
     "data": {
      "text/html": [
       "<style scoped>\n",
       "  .ansiout {\n",
       "    display: block;\n",
       "    unicode-bidi: embed;\n",
       "    white-space: pre-wrap;\n",
       "    word-wrap: break-word;\n",
       "    word-break: break-all;\n",
       "    font-family: \"Source Code Pro\", \"Menlo\", monospace;;\n",
       "    font-size: 13px;\n",
       "    color: #555;\n",
       "    margin-left: 4px;\n",
       "    line-height: 19px;\n",
       "  }\n",
       "</style>\n",
       "<div class=\"ansiout\"></div>"
      ]
     },
     "metadata": {},
     "output_type": "display_data"
    }
   ],
   "source": [
    "lm = sns.lmplot(x='user_id', y='book_id', hue='rating', data=ratingsPandas, fit_reg=False, aspect=2, palette=sns.diverging_palette(10, 133, sep=80, n=5))\n",
    "axes = lm.axes\n",
    "axes[0, 0].set_ylim(0, 10000) # max book_id is 163949\n",
    "axes[0, 0].set_xlim(0,  53424) # max userId is 671\n",
    "lm;"
   ]
  },
  {
   "cell_type": "code",
   "execution_count": 18,
   "metadata": {},
   "outputs": [
    {
     "data": {
      "image/png": "[encoded data removed]"
     },
     "metadata": {},
     "output_type": "display_data"
    }
   ],
   "source": [
    "display()"
   ]
  },
  {
   "cell_type": "code",
   "execution_count": 19,
   "metadata": {},
   "outputs": [
    {
     "data": {
      "text/html": [
       "<style scoped>\n",
       "  .ansiout {\n",
       "    display: block;\n",
       "    unicode-bidi: embed;\n",
       "    white-space: pre-wrap;\n",
       "    word-wrap: break-word;\n",
       "    word-break: break-all;\n",
       "    font-family: \"Source Code Pro\", \"Menlo\", monospace;;\n",
       "    font-size: 13px;\n",
       "    color: #555;\n",
       "    margin-left: 4px;\n",
       "    line-height: 19px;\n",
       "  }\n",
       "</style>\n",
       "<div class=\"ansiout\"></div>"
      ]
     },
     "metadata": {},
     "output_type": "display_data"
    }
   ],
   "source": [
    "sns.violinplot([ratingsPandas.rating]);"
   ]
  },
  {
   "cell_type": "code",
   "execution_count": 20,
   "metadata": {},
   "outputs": [
    {
     "data": {
      "image/png": "[encoded data removed]"
     },
     "metadata": {},
     "output_type": "display_data"
    }
   ],
   "source": [
    "display()"
   ]
  },
  {
   "cell_type": "code",
   "execution_count": 21,
   "metadata": {},
   "outputs": [
    {
     "data": {
      "text/html": [
       "<style scoped>\n",
       "  .ansiout {\n",
       "    display: block;\n",
       "    unicode-bidi: embed;\n",
       "    white-space: pre-wrap;\n",
       "    word-wrap: break-word;\n",
       "    word-break: break-all;\n",
       "    font-family: \"Source Code Pro\", \"Menlo\", monospace;;\n",
       "    font-size: 13px;\n",
       "    color: #555;\n",
       "    margin-left: 4px;\n",
       "    line-height: 19px;\n",
       "  }\n",
       "</style>\n",
       "<div class=\"ansiout\"></div>"
      ]
     },
     "metadata": {},
     "output_type": "display_data"
    }
   ],
   "source": [
    "# Train the Model\n",
    "from pyspark.ml.recommendation import ALS\n",
    "\n",
    "model = ALS(userCol='user_id', itemCol='book_id', ratingCol='rating').fit(ratings)"
   ]
  },
  {
   "cell_type": "code",
   "execution_count": 22,
   "metadata": {},
   "outputs": [
    {
     "data": {
      "text/html": [
       "<div style=\"max-width:1500px;overflow:auto;\">\n",
       "<table border=\"1\" class=\"dataframe\">\n",
       "  <thead>\n",
       "    <tr style=\"text-align: right;\">\n",
       "      <th></th>\n",
       "      <th>book_id</th>\n",
       "      <th>user_id</th>\n",
       "      <th>rating</th>\n",
       "      <th>prediction</th>\n",
       "    </tr>\n",
       "  </thead>\n",
       "  <tbody>\n",
       "    <tr>\n",
       "      <th>0</th>\n",
       "      <td>148</td>\n",
       "      <td>35982</td>\n",
       "      <td>3</td>\n",
       "      <td>3.292058</td>\n",
       "    </tr>\n",
       "    <tr>\n",
       "      <th>1</th>\n",
       "      <td>148</td>\n",
       "      <td>20467</td>\n",
       "      <td>3</td>\n",
       "      <td>2.954065</td>\n",
       "    </tr>\n",
       "    <tr>\n",
       "      <th>2</th>\n",
       "      <td>148</td>\n",
       "      <td>588</td>\n",
       "      <td>4</td>\n",
       "      <td>3.382935</td>\n",
       "    </tr>\n",
       "    <tr>\n",
       "      <th>3</th>\n",
       "      <td>148</td>\n",
       "      <td>9731</td>\n",
       "      <td>3</td>\n",
       "      <td>2.982782</td>\n",
       "    </tr>\n",
       "    <tr>\n",
       "      <th>4</th>\n",
       "      <td>148</td>\n",
       "      <td>3087</td>\n",
       "      <td>3</td>\n",
       "      <td>3.435217</td>\n",
       "    </tr>\n",
       "  </tbody>\n",
       "</table>\n",
       "</div>"
      ]
     },
     "metadata": {},
     "output_type": "display_data"
    }
   ],
   "source": [
    "#Run the Model\n",
    "predictions = model.transform(ratings)\n",
    "predictions.toPandas().head()"
   ]
  },
  {
   "cell_type": "code",
   "execution_count": 23,
   "metadata": {},
   "outputs": [
    {
     "data": {
      "text/html": [
       "<style scoped>\n",
       "  .ansiout {\n",
       "    display: block;\n",
       "    unicode-bidi: embed;\n",
       "    white-space: pre-wrap;\n",
       "    word-wrap: break-word;\n",
       "    word-break: break-all;\n",
       "    font-family: \"Source Code Pro\", \"Menlo\", monospace;;\n",
       "    font-size: 13px;\n",
       "    color: #555;\n",
       "    margin-left: 4px;\n",
       "    line-height: 19px;\n",
       "  }\n",
       "</style>\n",
       "<div class=\"ansiout\">The root mean squared error for our model is: 0.5961435265653865\n",
       "</div>"
      ]
     },
     "metadata": {},
     "output_type": "display_data"
    }
   ],
   "source": [
    "#Evaluate the Model\n",
    "from pyspark.ml.evaluation import RegressionEvaluator\n",
    "\n",
    "evaluator = RegressionEvaluator(metricName='rmse', labelCol='rating', predictionCol='prediction')\n",
    "print('The root mean squared error for our model is: {}'.format(evaluator.evaluate(predictions)))"
   ]
  },
  {
   "cell_type": "code",
   "execution_count": 24,
   "metadata": {},
   "outputs": [
    {
     "data": {
      "text/html": [
       "<style scoped>\n",
       "  .ansiout {\n",
       "    display: block;\n",
       "    unicode-bidi: embed;\n",
       "    white-space: pre-wrap;\n",
       "    word-wrap: break-word;\n",
       "    word-break: break-all;\n",
       "    font-family: \"Source Code Pro\", \"Menlo\", monospace;;\n",
       "    font-size: 13px;\n",
       "    color: #555;\n",
       "    margin-left: 4px;\n",
       "    line-height: 19px;\n",
       "  }\n",
       "</style>\n",
       "<div class=\"ansiout\"></div>"
      ]
     },
     "metadata": {},
     "output_type": "display_data"
    }
   ],
   "source": [
    "#Split the dataset \n",
    "(trainingRatings, testRatings) = ratings.randomSplit([80.0, 20.0])"
   ]
  },
  {
   "cell_type": "code",
   "execution_count": 25,
   "metadata": {},
   "outputs": [
    {
     "data": {
      "text/html": [
       "<style scoped>\n",
       "  .ansiout {\n",
       "    display: block;\n",
       "    unicode-bidi: embed;\n",
       "    white-space: pre-wrap;\n",
       "    word-wrap: break-word;\n",
       "    word-break: break-all;\n",
       "    font-family: \"Source Code Pro\", \"Menlo\", monospace;;\n",
       "    font-size: 13px;\n",
       "    color: #555;\n",
       "    margin-left: 4px;\n",
       "    line-height: 19px;\n",
       "  }\n",
       "</style>\n",
       "<div class=\"ansiout\"></div>"
      ]
     },
     "metadata": {},
     "output_type": "display_data"
    }
   ],
   "source": [
    "als = ALS(userCol='user_id', itemCol='book_id', ratingCol='rating')\n",
    "model = als.fit(trainingRatings)\n",
    "predictions = model.transform(testRatings)"
   ]
  },
  {
   "cell_type": "code",
   "execution_count": 26,
   "metadata": {},
   "outputs": [
    {
     "data": {
      "text/html": [
       "<div style=\"max-width:1500px;overflow:auto;\">\n",
       "<table border=\"1\" class=\"dataframe\">\n",
       "  <thead>\n",
       "    <tr style=\"text-align: right;\">\n",
       "      <th></th>\n",
       "      <th>book_id</th>\n",
       "      <th>user_id</th>\n",
       "      <th>rating</th>\n",
       "      <th>prediction</th>\n",
       "    </tr>\n",
       "  </thead>\n",
       "  <tbody>\n",
       "    <tr>\n",
       "      <th>0</th>\n",
       "      <td>148</td>\n",
       "      <td>588</td>\n",
       "      <td>4</td>\n",
       "      <td>3.424580</td>\n",
       "    </tr>\n",
       "    <tr>\n",
       "      <th>1</th>\n",
       "      <td>148</td>\n",
       "      <td>28767</td>\n",
       "      <td>3</td>\n",
       "      <td>2.754104</td>\n",
       "    </tr>\n",
       "    <tr>\n",
       "      <th>2</th>\n",
       "      <td>148</td>\n",
       "      <td>22164</td>\n",
       "      <td>3</td>\n",
       "      <td>3.261525</td>\n",
       "    </tr>\n",
       "    <tr>\n",
       "      <th>3</th>\n",
       "      <td>148</td>\n",
       "      <td>6630</td>\n",
       "      <td>3</td>\n",
       "      <td>3.347558</td>\n",
       "    </tr>\n",
       "    <tr>\n",
       "      <th>4</th>\n",
       "      <td>148</td>\n",
       "      <td>13034</td>\n",
       "      <td>4</td>\n",
       "      <td>3.339956</td>\n",
       "    </tr>\n",
       "  </tbody>\n",
       "</table>\n",
       "</div>"
      ]
     },
     "metadata": {},
     "output_type": "display_data"
    }
   ],
   "source": [
    "predictions.toPandas().head()"
   ]
  },
  {
   "cell_type": "code",
   "execution_count": 27,
   "metadata": {},
   "outputs": [
    {
     "data": {
      "text/html": [
       "<style scoped>\n",
       "  .ansiout {\n",
       "    display: block;\n",
       "    unicode-bidi: embed;\n",
       "    white-space: pre-wrap;\n",
       "    word-wrap: break-word;\n",
       "    word-break: break-all;\n",
       "    font-family: \"Source Code Pro\", \"Menlo\", monospace;;\n",
       "    font-size: 13px;\n",
       "    color: #555;\n",
       "    margin-left: 4px;\n",
       "    line-height: 19px;\n",
       "  }\n",
       "</style>\n",
       "<div class=\"ansiout\">The root mean squared error for our model is: nan\n",
       "</div>"
      ]
     },
     "metadata": {},
     "output_type": "display_data"
    }
   ],
   "source": [
    "evaluator = RegressionEvaluator(metricName='rmse', labelCol='rating', predictionCol='prediction')\n",
    "print('The root mean squared error for our model is: {}'.format(evaluator.evaluate(predictions)))"
   ]
  },
  {
   "cell_type": "code",
   "execution_count": 28,
   "metadata": {},
   "outputs": [
    {
     "data": {
      "text/html": [
       "<style scoped>\n",
       "  .ansiout {\n",
       "    display: block;\n",
       "    unicode-bidi: embed;\n",
       "    white-space: pre-wrap;\n",
       "    word-wrap: break-word;\n",
       "    word-break: break-all;\n",
       "    font-family: \"Source Code Pro\", \"Menlo\", monospace;;\n",
       "    font-size: 13px;\n",
       "    color: #555;\n",
       "    margin-left: 4px;\n",
       "    line-height: 19px;\n",
       "  }\n",
       "</style>\n",
       "<div class=\"ansiout\">The average rating in the dataset is: 3.8565335989797873\n",
       "The root mean squared error for our model is: 0.9068868737468402\n",
       "</div>"
      ]
     },
     "metadata": {},
     "output_type": "display_data"
    }
   ],
   "source": [
    "#Handle  NAN value\n",
    "avgRatings = ratings.select('rating').groupBy().avg().first()[0]\n",
    "print ('The average rating in the dataset is: {}'.format(avgRatings))\n",
    "\n",
    "evaluator = RegressionEvaluator(metricName='rmse', labelCol='rating', predictionCol='prediction')\n",
    "print ('The root mean squared error for our model is: {}'.format(evaluator.evaluate(predictions.na.fill(avgRatings))))"
   ]
  },
  {
   "cell_type": "code",
   "execution_count": 29,
   "metadata": {},
   "outputs": [
    {
     "data": {
      "text/html": [
       "<style scoped>\n",
       "  .ansiout {\n",
       "    display: block;\n",
       "    unicode-bidi: embed;\n",
       "    white-space: pre-wrap;\n",
       "    word-wrap: break-word;\n",
       "    word-break: break-all;\n",
       "    font-family: \"Source Code Pro\", \"Menlo\", monospace;;\n",
       "    font-size: 13px;\n",
       "    color: #555;\n",
       "    margin-left: 4px;\n",
       "    line-height: 19px;\n",
       "  }\n",
       "</style>\n",
       "<div class=\"ansiout\">The root mean squared error for our model is: 0.9065063357490802\n",
       "</div>"
      ]
     },
     "metadata": {},
     "output_type": "display_data"
    }
   ],
   "source": [
    "evaluator = RegressionEvaluator(metricName='rmse', labelCol='rating', predictionCol='prediction')\n",
    "print ('The root mean squared error for our model is: {}'.format(evaluator.evaluate(predictions.na.drop())))"
   ]
  },
  {
   "cell_type": "markdown",
   "metadata": {},
   "source": [
    "## Improve performance 'repeatALS'"
   ]
  },
  {
   "cell_type": "code",
   "execution_count": 30,
   "metadata": {},
   "outputs": [
    {
     "data": {
      "text/html": [
       "<style scoped>\n",
       "  .ansiout {\n",
       "    display: block;\n",
       "    unicode-bidi: embed;\n",
       "    white-space: pre-wrap;\n",
       "    word-wrap: break-word;\n",
       "    word-break: break-all;\n",
       "    font-family: \"Source Code Pro\", \"Menlo\", monospace;;\n",
       "    font-size: 13px;\n",
       "    color: #555;\n",
       "    margin-left: 4px;\n",
       "    line-height: 19px;\n",
       "  }\n",
       "</style>\n",
       "<div class=\"ansiout\"></div>"
      ]
     },
     "metadata": {},
     "output_type": "display_data"
    }
   ],
   "source": [
    "#improve the performance score\n",
    "def repeatALS(data, k=3, userCol='user_id', itemCol='book_id', ratingCol='rating', metricName='rmse'):\n",
    "    evaluations = []\n",
    "    for i in range(0, k):  \n",
    "        (trainingSet, testingSet) = data.randomSplit([k - 1.0, 1.0])\n",
    "        als = ALS(userCol=userCol, itemCol=itemCol, ratingCol=ratingCol)\n",
    "        model = als.fit(trainingSet)\n",
    "        predictions = model.transform(testingSet)\n",
    "        evaluator = RegressionEvaluator(metricName=metricName, labelCol='rating', predictionCol='prediction')\n",
    "        evaluation = evaluator.evaluate(predictions.na.drop())\n",
    "        print('Loop {}: {} = {}'.format(i + 1, metricName, evaluation))\n",
    "        evaluations.append(evaluation)\n",
    "    return sum(evaluations) / float(len(evaluations))"
   ]
  },
  {
   "cell_type": "code",
   "execution_count": 31,
   "metadata": {},
   "outputs": [
    {
     "data": {
      "text/html": [
       "<style scoped>\n",
       "  .ansiout {\n",
       "    display: block;\n",
       "    unicode-bidi: embed;\n",
       "    white-space: pre-wrap;\n",
       "    word-wrap: break-word;\n",
       "    word-break: break-all;\n",
       "    font-family: \"Source Code Pro\", \"Menlo\", monospace;;\n",
       "    font-size: 13px;\n",
       "    color: #555;\n",
       "    margin-left: 4px;\n",
       "    line-height: 19px;\n",
       "  }\n",
       "</style>\n",
       "<div class=\"ansiout\">Loop 1: rmse = 0.915501273920143\n",
       "Loop 2: rmse = 0.913411969845521\n",
       "Loop 3: rmse = 0.9169916034863236\n",
       "Loop 4: rmse = 0.9181938895690115\n",
       "RMSE = 0.9160246842052497\n",
       "</div>"
      ]
     },
     "metadata": {},
     "output_type": "display_data"
    }
   ],
   "source": [
    "print('RMSE = {}'.format(repeatALS(ratings, k=4)))"
   ]
  },
  {
   "cell_type": "markdown",
   "metadata": {},
   "source": [
    "## Improve the performance 'kfoldALS'"
   ]
  },
  {
   "cell_type": "code",
   "execution_count": 32,
   "metadata": {},
   "outputs": [
    {
     "data": {
      "text/html": [
       "<style scoped>\n",
       "  .ansiout {\n",
       "    display: block;\n",
       "    unicode-bidi: embed;\n",
       "    white-space: pre-wrap;\n",
       "    word-wrap: break-word;\n",
       "    word-break: break-all;\n",
       "    font-family: \"Source Code Pro\", \"Menlo\", monospace;;\n",
       "    font-size: 13px;\n",
       "    color: #555;\n",
       "    margin-left: 4px;\n",
       "    line-height: 19px;\n",
       "  }\n",
       "</style>\n",
       "<div class=\"ansiout\"></div>"
      ]
     },
     "metadata": {},
     "output_type": "display_data"
    }
   ],
   "source": [
    "def kfoldALS(data, k=3, userCol='user_id', itemCol='book_id', ratingCol='rating', metricName='rmse'):\n",
    "    evaluations = []\n",
    "    weights = [1.0] * k\n",
    "    splits = data.randomSplit(weights)\n",
    "    for i in range(0, k):  \n",
    "        testingSet = splits[i]\n",
    "        trainingSet = spark.createDataFrame(sc.emptyRDD(), data.schema)\n",
    "        for j in range(0, k):\n",
    "            if i == j:\n",
    "                continue\n",
    "            else:\n",
    "                trainingSet = trainingSet.union(splits[j])\n",
    "        als = ALS(userCol=userCol, itemCol=itemCol, ratingCol=ratingCol)\n",
    "        model = als.fit(trainingSet)\n",
    "        predictions = model.transform(testingSet)\n",
    "        evaluator = RegressionEvaluator(metricName=metricName, labelCol='rating', predictionCol='prediction')\n",
    "        evaluation = evaluator.evaluate(predictions.na.drop())\n",
    "        print('Loop {}: {} = {}'.format(i + 1, metricName, evaluation))\n",
    "        evaluations.append(evaluation)\n",
    "    return sum(evaluations) / float(len(evaluations))"
   ]
  },
  {
   "cell_type": "code",
   "execution_count": 33,
   "metadata": {},
   "outputs": [
    {
     "data": {
      "text/html": [
       "<style scoped>\n",
       "  .ansiout {\n",
       "    display: block;\n",
       "    unicode-bidi: embed;\n",
       "    white-space: pre-wrap;\n",
       "    word-wrap: break-word;\n",
       "    word-break: break-all;\n",
       "    font-family: \"Source Code Pro\", \"Menlo\", monospace;;\n",
       "    font-size: 13px;\n",
       "    color: #555;\n",
       "    margin-left: 4px;\n",
       "    line-height: 19px;\n",
       "  }\n",
       "</style>\n",
       "<div class=\"ansiout\">Loop 1: rmse = 0.9148763429349793\n",
       "Loop 2: rmse = 0.9190247653005\n",
       "Loop 3: rmse = 0.9163627781148731\n",
       "Loop 4: rmse = 0.9180543387905414\n",
       "RMSE = 0.9170795562852235\n",
       "</div>"
      ]
     },
     "metadata": {},
     "output_type": "display_data"
    }
   ],
   "source": [
    "#Compute the average performance score for 4 folds:\n",
    "\n",
    "print('RMSE = {}'.format(kfoldALS(ratings, k=4)))"
   ]
  },
  {
   "cell_type": "code",
   "execution_count": 34,
   "metadata": {},
   "outputs": [
    {
     "data": {
      "text/html": [
       "<style scoped>\n",
       "  .ansiout {\n",
       "    display: block;\n",
       "    unicode-bidi: embed;\n",
       "    white-space: pre-wrap;\n",
       "    word-wrap: break-word;\n",
       "    word-break: break-all;\n",
       "    font-family: \"Source Code Pro\", \"Menlo\", monospace;;\n",
       "    font-size: 13px;\n",
       "    color: #555;\n",
       "    margin-left: 4px;\n",
       "    line-height: 19px;\n",
       "  }\n",
       "</style>\n",
       "<div class=\"ansiout\">Loop 1: rmse = 0.892847988616503\n",
       "Loop 2: rmse = 0.8958745684103944\n",
       "Loop 3: rmse = 0.8924409865750748\n",
       "Loop 4: rmse = 0.8939618217592261\n",
       "Loop 5: rmse = 0.8888267848610077\n",
       "Loop 6: rmse = 0.8935597242903138\n",
       "Loop 7: rmse = 0.8912509360878283\n",
       "Loop 8: rmse = 0.8896907406050837\n",
       "Loop 9: rmse = 0.8952338129206565\n",
       "Loop 10: rmse = 0.8956223453080318\n",
       "RMSE = 0.892930970943412\n",
       "</div>"
      ]
     },
     "metadata": {},
     "output_type": "display_data"
    }
   ],
   "source": [
    "#Now compute the average performance score for 10 folds:\n",
    "\n",
    "print('RMSE = {}'.format(kfoldALS(ratings, k=10)))"
   ]
  },
  {
   "cell_type": "markdown",
   "metadata": {},
   "source": [
    "## Improve the model"
   ]
  },
  {
   "cell_type": "code",
   "execution_count": 35,
   "metadata": {},
   "outputs": [
    {
     "data": {
      "text/html": [
       "<style scoped>\n",
       "  .ansiout {\n",
       "    display: block;\n",
       "    unicode-bidi: embed;\n",
       "    white-space: pre-wrap;\n",
       "    word-wrap: break-word;\n",
       "    word-break: break-all;\n",
       "    font-family: \"Source Code Pro\", \"Menlo\", monospace;;\n",
       "    font-size: 13px;\n",
       "    color: #555;\n",
       "    margin-left: 4px;\n",
       "    line-height: 19px;\n",
       "  }\n",
       "</style>\n",
       "java.net.ConnectException: Connection refused\n",
       "\tat sun.nio.ch.SocketChannelImpl.checkConnect(Native Method)\n",
       "\tat sun.nio.ch.SocketChannelImpl.finishConnect(SocketChannelImpl.java:717)\n",
       "\tat sun.nio.ch.SocketAdaptor.connect(SocketAdaptor.java:111)\n",
       "\tat org.eclipse.jetty8.client.SelectConnector.startConnection(SelectConnector.java:82)\n",
       "\tat org.eclipse.jetty8.client.HttpDestination.startNewConnection(HttpDestination.java:292)\n",
       "\tat org.eclipse.jetty8.client.HttpDestination.doSend(HttpDestination.java:597)\n",
       "\tat org.eclipse.jetty8.client.HttpDestination.send(HttpDestination.java:532)\n",
       "\tat org.eclipse.jetty8.client.HttpClient.send(HttpClient.java:180)\n",
       "\tat com.databricks.rpc.JettyClient.$anonfun$sendRawExchange$2(JettyClient.scala:286)\n",
       "\tat scala.runtime.java8.JFunction0$mcV$sp.apply(JFunction0$mcV$sp.java:23)\n",
       "\tat com.databricks.logging.UsageLogging.$anonfun$withAttributionContext$1(UsageLogging.scala:239)\n",
       "\tat scala.util.DynamicVariable.withValue(DynamicVariable.scala:62)\n",
       "\tat com.databricks.logging.UsageLogging.withAttributionContext(UsageLogging.scala:234)\n",
       "\tat com.databricks.logging.UsageLogging.withAttributionContext$(UsageLogging.scala:231)\n",
       "\tat com.databricks.rpc.AbstractJettyClient.withAttributionContext(BaseJettyClient.scala:81)\n",
       "\tat com.databricks.rpc.JettyClient.sendRawExchange(JettyClient.scala:270)\n",
       "\tat com.databricks.rpc.JettyClient.sendExchange(JettyClient.scala:186)\n",
       "\tat com.databricks.rpc.JettyClient.sendAsync(JettyClient.scala:142)\n",
       "\tat com.databricks.rpc.DynamicJettyClient.sendAsync(BaseJettyClient.scala:565)\n",
       "\tat com.databricks.rpc.BoundRPCClient.sendAsync(BoundRPCClient.scala:54)\n",
       "\tat com.databricks.backend.daemon.driver.DriverClient.send(DriverClient.scala:98)\n",
       "\tat com.databricks.backend.daemon.driver.DriverClient.$anonfun$poll$1(DriverClient.scala:399)\n",
       "\tat com.databricks.util.FutureUtils$.retry(FutureUtils.scala:87)\n",
       "\tat com.databricks.util.FutureUtils$$anonfun$retry$2.applyOrElse(FutureUtils.scala:91)\n",
       "\tat com.databricks.util.FutureUtils$$anonfun$retry$2.applyOrElse(FutureUtils.scala:89)\n",
       "\tat scala.concurrent.Future.$anonfun$recoverWith$1(Future.scala:417)\n",
       "\tat scala.concurrent.impl.Promise.$anonfun$transformWith$1(Promise.scala:41)\n",
       "\tat scala.concurrent.impl.CallbackRunnable.run(Promise.scala:64)\n",
       "\tat com.databricks.threading.NamedExecutor$$anon$1.$anonfun$run$1(NamedExecutor.scala:317)\n",
       "\tat scala.runtime.java8.JFunction0$mcV$sp.apply(JFunction0$mcV$sp.java:23)\n",
       "\tat com.databricks.logging.UsageLogging.$anonfun$withAttributionContext$1(UsageLogging.scala:239)\n",
       "\tat scala.util.DynamicVariable.withValue(DynamicVariable.scala:62)\n",
       "\tat com.databricks.logging.UsageLogging.withAttributionContext(UsageLogging.scala:234)\n",
       "\tat com.databricks.logging.UsageLogging.withAttributionContext$(UsageLogging.scala:231)\n",
       "\tat com.databricks.threading.NamedExecutor.withAttributionContext(NamedExecutor.scala:256)\n",
       "\tat com.databricks.threading.NamedExecutor$$anon$1.run(NamedExecutor.scala:317)\n",
       "\tat java.util.concurrent.ThreadPoolExecutor.runWorker(ThreadPoolExecutor.java:1149)\n",
       "\tat java.util.concurrent.ThreadPoolExecutor$Worker.run(ThreadPoolExecutor.java:624)\n",
       "\tat java.lang.Thread.run(Thread.java:748)"
      ]
     },
     "metadata": {},
     "output_type": "display_data"
    }
   ],
   "source": [
    "#improve the model\n",
    "from pyspark.ml.tuning import CrossValidator, ParamGridBuilder\n",
    "\n",
    "(trainingRatings, validationRatings) = ratings.randomSplit([80.0, 20.0])\n",
    "evaluator = RegressionEvaluator(metricName='rmse', labelCol='rating', predictionCol='prediction')\n",
    "\n",
    "paramGrid = ParamGridBuilder().addGrid(als.rank, [1, 5, 10]).addGrid(als.maxIter, [20]).addGrid(als.regParam, [0.05, 0.1, 0.5]).build()\n",
    "\n",
    "crossval = CrossValidator(estimator=als, estimatorParamMaps=paramGrid, evaluator=evaluator, numFolds=10)\n",
    "cvModel = crossval.fit(trainingRatings)\n",
    "predictions = cvModel.transform(validationRatings)\n",
    "\n",
    "print('The root mean squared error for our model is: {}'.format(evaluator.evaluate(predictions.na.drop())))"
   ]
  },
  {
   "cell_type": "code",
   "execution_count": 36,
   "metadata": {},
   "outputs": [
    {
     "data": {
      "text/html": [
       "<style scoped>\n",
       "  .ansiout {\n",
       "    display: block;\n",
       "    unicode-bidi: embed;\n",
       "    white-space: pre-wrap;\n",
       "    word-wrap: break-word;\n",
       "    word-break: break-all;\n",
       "    font-family: \"Source Code Pro\", \"Menlo\", monospace;;\n",
       "    font-size: 13px;\n",
       "    color: #555;\n",
       "    margin-left: 4px;\n",
       "    line-height: 19px;\n",
       "  }\n",
       "</style>\n",
       "java.net.ConnectException: Connection refused\n",
       "\tat sun.nio.ch.SocketChannelImpl.checkConnect(Native Method)\n",
       "\tat sun.nio.ch.SocketChannelImpl.finishConnect(SocketChannelImpl.java:717)\n",
       "\tat sun.nio.ch.SocketAdaptor.connect(SocketAdaptor.java:111)\n",
       "\tat org.eclipse.jetty8.client.SelectConnector.startConnection(SelectConnector.java:82)\n",
       "\tat org.eclipse.jetty8.client.HttpDestination.startNewConnection(HttpDestination.java:292)\n",
       "\tat org.eclipse.jetty8.client.HttpDestination.doSend(HttpDestination.java:597)\n",
       "\tat org.eclipse.jetty8.client.HttpDestination.send(HttpDestination.java:532)\n",
       "\tat org.eclipse.jetty8.client.HttpClient.send(HttpClient.java:180)\n",
       "\tat com.databricks.rpc.JettyClient.$anonfun$sendRawExchange$2(JettyClient.scala:286)\n",
       "\tat scala.runtime.java8.JFunction0$mcV$sp.apply(JFunction0$mcV$sp.java:23)\n",
       "\tat com.databricks.logging.UsageLogging.$anonfun$withAttributionContext$1(UsageLogging.scala:239)\n",
       "\tat scala.util.DynamicVariable.withValue(DynamicVariable.scala:62)\n",
       "\tat com.databricks.logging.UsageLogging.withAttributionContext(UsageLogging.scala:234)\n",
       "\tat com.databricks.logging.UsageLogging.withAttributionContext$(UsageLogging.scala:231)\n",
       "\tat com.databricks.rpc.AbstractJettyClient.withAttributionContext(BaseJettyClient.scala:81)\n",
       "\tat com.databricks.rpc.JettyClient.sendRawExchange(JettyClient.scala:270)\n",
       "\tat com.databricks.rpc.JettyClient.sendExchange(JettyClient.scala:186)\n",
       "\tat com.databricks.rpc.JettyClient.sendAsync(JettyClient.scala:142)\n",
       "\tat com.databricks.rpc.DynamicJettyClient.sendAsync(BaseJettyClient.scala:565)\n",
       "\tat com.databricks.rpc.BoundRPCClient.sendAsync(BoundRPCClient.scala:54)\n",
       "\tat com.databricks.backend.daemon.driver.DriverClient.send(DriverClient.scala:98)\n",
       "\tat com.databricks.backend.daemon.driver.DriverClient.$anonfun$poll$1(DriverClient.scala:399)\n",
       "\tat com.databricks.util.FutureUtils$.retry(FutureUtils.scala:87)\n",
       "\tat com.databricks.util.FutureUtils$$anonfun$retry$2.applyOrElse(FutureUtils.scala:91)\n",
       "\tat com.databricks.util.FutureUtils$$anonfun$retry$2.applyOrElse(FutureUtils.scala:89)\n",
       "\tat scala.concurrent.Future.$anonfun$recoverWith$1(Future.scala:417)\n",
       "\tat scala.concurrent.impl.Promise.$anonfun$transformWith$1(Promise.scala:41)\n",
       "\tat scala.concurrent.impl.CallbackRunnable.run(Promise.scala:64)\n",
       "\tat com.databricks.threading.NamedExecutor$$anon$1.$anonfun$run$1(NamedExecutor.scala:317)\n",
       "\tat scala.runtime.java8.JFunction0$mcV$sp.apply(JFunction0$mcV$sp.java:23)\n",
       "\tat com.databricks.logging.UsageLogging.$anonfun$withAttributionContext$1(UsageLogging.scala:239)\n",
       "\tat scala.util.DynamicVariable.withValue(DynamicVariable.scala:62)\n",
       "\tat com.databricks.logging.UsageLogging.withAttributionContext(UsageLogging.scala:234)\n",
       "\tat com.databricks.logging.UsageLogging.withAttributionContext$(UsageLogging.scala:231)\n",
       "\tat com.databricks.threading.NamedExecutor.withAttributionContext(NamedExecutor.scala:256)\n",
       "\tat com.databricks.threading.NamedExecutor$$anon$1.run(NamedExecutor.scala:317)\n",
       "\tat java.util.concurrent.ThreadPoolExecutor.runWorker(ThreadPoolExecutor.java:1149)\n",
       "\tat java.util.concurrent.ThreadPoolExecutor$Worker.run(ThreadPoolExecutor.java:624)\n",
       "\tat java.lang.Thread.run(Thread.java:748)"
      ]
     },
     "metadata": {},
     "output_type": "display_data"
    }
   ],
   "source": [
    "#Create a recommendBooks function:\n",
    "\n",
    "from pyspark.sql.functions import lit\n",
    "\n",
    "def recommendBooks(model, user, nbRecommendations):\n",
    "    # Create a Spark DataFrame with the specified user and all the books listed in the ratings DataFrame\n",
    "    dataSet = ratings.select('book_id').distinct().withColumn('user_id', lit(user))\n",
    "\n",
    "    # Create a Spark DataFrame with the books that have already been rated by this user\n",
    "    booksAlreadyRated = ratings.filter(ratings.user_id == user).select('book_id', 'user_id')\n",
    "\n",
    "    # Apply the recommender system to the data set without the already rated books to predict ratings\n",
    "    predictions = model.transform(dataSet.subtract(booksAlreadyRated)).dropna().orderBy('prediction', ascending=False).limit(nbRecommendations).select('book_id', 'prediction')\n",
    "\n",
    "    # Join with the books DataFrame to get the books titles and genres\n",
    "    recommendations = predictions.join(books, predictions.book_id == books.book_id).select(predictions.book_id, books.title, books.genres, predictions.prediction)\n",
    "\n",
    "#     recommendations.show(truncate=False)\n",
    "    return recommendations"
   ]
  },
  {
   "cell_type": "code",
   "execution_count": 37,
   "metadata": {},
   "outputs": [
    {
     "data": {
      "text/html": [
       "<style scoped>\n",
       "  .ansiout {\n",
       "    display: block;\n",
       "    unicode-bidi: embed;\n",
       "    white-space: pre-wrap;\n",
       "    word-wrap: break-word;\n",
       "    word-break: break-all;\n",
       "    font-family: \"Source Code Pro\", \"Menlo\", monospace;;\n",
       "    font-size: 13px;\n",
       "    color: #555;\n",
       "    margin-left: 4px;\n",
       "    line-height: 19px;\n",
       "  }\n",
       "</style>\n",
       "java.net.ConnectException: Connection refused\n",
       "\tat sun.nio.ch.SocketChannelImpl.checkConnect(Native Method)\n",
       "\tat sun.nio.ch.SocketChannelImpl.finishConnect(SocketChannelImpl.java:717)\n",
       "\tat sun.nio.ch.SocketAdaptor.connect(SocketAdaptor.java:111)\n",
       "\tat org.eclipse.jetty8.client.SelectConnector.startConnection(SelectConnector.java:82)\n",
       "\tat org.eclipse.jetty8.client.HttpDestination.startNewConnection(HttpDestination.java:292)\n",
       "\tat org.eclipse.jetty8.client.HttpDestination.doSend(HttpDestination.java:597)\n",
       "\tat org.eclipse.jetty8.client.HttpDestination.send(HttpDestination.java:532)\n",
       "\tat org.eclipse.jetty8.client.HttpClient.send(HttpClient.java:180)\n",
       "\tat com.databricks.rpc.JettyClient.$anonfun$sendRawExchange$2(JettyClient.scala:286)\n",
       "\tat scala.runtime.java8.JFunction0$mcV$sp.apply(JFunction0$mcV$sp.java:23)\n",
       "\tat com.databricks.logging.UsageLogging.$anonfun$withAttributionContext$1(UsageLogging.scala:239)\n",
       "\tat scala.util.DynamicVariable.withValue(DynamicVariable.scala:62)\n",
       "\tat com.databricks.logging.UsageLogging.withAttributionContext(UsageLogging.scala:234)\n",
       "\tat com.databricks.logging.UsageLogging.withAttributionContext$(UsageLogging.scala:231)\n",
       "\tat com.databricks.rpc.AbstractJettyClient.withAttributionContext(BaseJettyClient.scala:81)\n",
       "\tat com.databricks.rpc.JettyClient.sendRawExchange(JettyClient.scala:270)\n",
       "\tat com.databricks.rpc.JettyClient.sendExchange(JettyClient.scala:186)\n",
       "\tat com.databricks.rpc.JettyClient.sendAsync(JettyClient.scala:142)\n",
       "\tat com.databricks.rpc.DynamicJettyClient.sendAsync(BaseJettyClient.scala:565)\n",
       "\tat com.databricks.rpc.BoundRPCClient.sendAsync(BoundRPCClient.scala:54)\n",
       "\tat com.databricks.backend.daemon.driver.DriverClient.send(DriverClient.scala:98)\n",
       "\tat com.databricks.backend.daemon.driver.DriverClient.$anonfun$poll$1(DriverClient.scala:399)\n",
       "\tat com.databricks.util.FutureUtils$.retry(FutureUtils.scala:87)\n",
       "\tat com.databricks.util.FutureUtils$$anonfun$retry$2.applyOrElse(FutureUtils.scala:91)\n",
       "\tat com.databricks.util.FutureUtils$$anonfun$retry$2.applyOrElse(FutureUtils.scala:89)\n",
       "\tat scala.concurrent.Future.$anonfun$recoverWith$1(Future.scala:417)\n",
       "\tat scala.concurrent.impl.Promise.$anonfun$transformWith$1(Promise.scala:41)\n",
       "\tat scala.concurrent.impl.CallbackRunnable.run(Promise.scala:64)\n",
       "\tat com.databricks.threading.NamedExecutor$$anon$1.$anonfun$run$1(NamedExecutor.scala:317)\n",
       "\tat scala.runtime.java8.JFunction0$mcV$sp.apply(JFunction0$mcV$sp.java:23)\n",
       "\tat com.databricks.logging.UsageLogging.$anonfun$withAttributionContext$1(UsageLogging.scala:239)\n",
       "\tat scala.util.DynamicVariable.withValue(DynamicVariable.scala:62)\n",
       "\tat com.databricks.logging.UsageLogging.withAttributionContext(UsageLogging.scala:234)\n",
       "\tat com.databricks.logging.UsageLogging.withAttributionContext$(UsageLogging.scala:231)\n",
       "\tat com.databricks.threading.NamedExecutor.withAttributionContext(NamedExecutor.scala:256)\n",
       "\tat com.databricks.threading.NamedExecutor$$anon$1.run(NamedExecutor.scala:317)\n",
       "\tat java.util.concurrent.ThreadPoolExecutor.runWorker(ThreadPoolExecutor.java:1149)\n",
       "\tat java.util.concurrent.ThreadPoolExecutor$Worker.run(ThreadPoolExecutor.java:624)\n",
       "\tat java.lang.Thread.run(Thread.java:748)"
      ]
     },
     "metadata": {},
     "output_type": "display_data"
    }
   ],
   "source": [
    "#Now run this function to recommend 10 movies for three different users:\n",
    "\n",
    "print('Recommendations for user 133:')\n",
    "recommendBooks(model, 133, 10).toPandas()"
   ]
  },
  {
   "cell_type": "code",
   "execution_count": 38,
   "metadata": {},
   "outputs": [],
   "source": []
  }
 ],
 "metadata": {
  "kernelspec": {
   "display_name": "Python 3",
   "language": "python",
   "name": "python3"
  },
  "language_info": {
   "codemirror_mode": {
    "name": "ipython",
    "version": 3
   },
   "file_extension": ".py",
   "mimetype": "text/x-python",
   "name": "python",
   "nbconvert_exporter": "python",
   "pygments_lexer": "ipython3",
   "version": "3.6.8"
  },
  "name": "Farheen_Project_Cloud Computing",
  "notebookId": 591962060359758
 },
 "nbformat": 4,
 "nbformat_minor": 1
}
